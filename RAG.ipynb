{
 "cells": [
  {
   "cell_type": "code",
   "execution_count": null,
   "id": "39ca8d29",
   "metadata": {},
   "outputs": [],
   "source": [
    "from langchain.text_splitter import RecursiveCharacterTextSplitter\n",
    "from langchain.document_loaders import PyPDFLoader\n",
    "from langchain.embeddings.openai import OpenAIEmbeddings\n",
    "from langchain.vectorstores import FAISS\n",
    "\n",
    "# Load documents (example with PDFs)\n",
    "loader = PyPDFLoader(\"Roadmap-Assessment-7.pdf\")\n",
    "docs = loader.load()\n",
    "\n",
    "# Split documents into chunks\n",
    "text_splitter = RecursiveCharacterTextSplitter(chunk_size=200, chunk_overlap=100)\n",
    "chunks = text_splitter.split_documents(docs)\n",
    "\n",
    "# Embed and store chunks\n",
    "embeddings = OpenAIEmbeddings(openai_api_key=\"api_key\")\n",
    "vector_store = FAISS.from_documents(chunks, embeddings)\n",
    "\n",
    "# Save vector store for retrieval\n",
    "vector_store.save_local(\"faiss_index\")"
   ]
  },
  {
   "cell_type": "code",
   "execution_count": null,
   "id": "6df38af0",
   "metadata": {},
   "outputs": [],
   "source": [
    "from langchain.text_splitter import RecursiveCharacterTextSplitter\n",
    "from langchain.llms import OpenAI\n",
    "\n",
    "# Split documents into optimized chunks\n",
    "text_splitter = RecursiveCharacterTextSplitter(chunk_size=400, chunk_overlap=100)\n",
    "chunks = text_splitter.split_documents(docs)\n",
    "\n",
    "# Create embeddings and store chunks efficiently\n",
    "embeddings = OpenAIEmbeddings(openai_api_key=\"api_key\")\n",
    "vector_store = FAISS.from_documents(chunks, embeddings)\n",
    "\n",
    "# Save the indexed embeddings\n",
    "vector_store.save_local(\"faiss_index\")\n",
    "\n",
    "def retrieve_top_results(query, top_k=5):\n",
    "    search_results = vector_store.similarity_search(query, k=top_k)\n",
    "    return [result.page_content for result in search_results]\n",
    "\n",
    "query = \"Explain RAG optimization techniques\"\n",
    "retrieved_chunks = retrieve_top_results(query)\n",
    "print(retrieved_chunks)\n",
    "\n",
    "llm = OpenAI(openai_api_key=\"api_key\")\n",
    "\n",
    "response = llm.predict(f\"Using this information: {retrieved_chunks}. Provide an answer.\")\n",
    "print(response)\n"
   ]
  }
 ],
 "metadata": {
  "kernelspec": {
   "display_name": "myenv",
   "language": "python",
   "name": "python3"
  },
  "language_info": {
   "codemirror_mode": {
    "name": "ipython",
    "version": 3
   },
   "file_extension": ".py",
   "mimetype": "text/x-python",
   "name": "python",
   "nbconvert_exporter": "python",
   "pygments_lexer": "ipython3",
   "version": "3.13.1"
  }
 },
 "nbformat": 4,
 "nbformat_minor": 5
}
